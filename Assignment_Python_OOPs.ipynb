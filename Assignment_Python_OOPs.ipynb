{
  "nbformat": 4,
  "nbformat_minor": 0,
  "metadata": {
    "colab": {
      "provenance": []
    },
    "kernelspec": {
      "name": "python3",
      "display_name": "Python 3"
    },
    "language_info": {
      "name": "python"
    }
  },
  "cells": [
    {
      "cell_type": "markdown",
      "source": [
        "# Python OOPs"
      ],
      "metadata": {
        "id": "L4SWLpTdwjvy"
      }
    },
    {
      "cell_type": "markdown",
      "source": [
        "1. What is Object-Oriented Programming (OOP)?\n",
        " - Object-oriented programming (OOP) is a programming paradigm that organizes software design around data, or objects, rather than functions and logic. It's a model that uses objects, classes, and concepts like inheritance, encapsulation, and polymorphism to build software.\n",
        "\n",
        " Key Concepts in OOP:\n",
        "\n",
        " Objects:\n",
        " Objects are fundamental units of a program that contain both data (attributes) and methods (functions). For example, a \"dog\" object might have attributes like \"name\" and \"breed\", and methods like \"bark\" and \"eat\".\n",
        "\n",
        " Classes:\n",
        " Classes are templates or blueprints that define the structure and behavior of objects. You can think of a class as a recipe for creating objects.\n",
        "\n",
        " Inheritance:\n",
        " Inheritance allows classes to inherit properties and behaviors from other classes (parent classes), promoting code reuse and creating hierarchical relationships.\n",
        "\n",
        " Encapsulation:\n",
        " Encapsulation is the bundling of data and methods that operate on that data within a class, protecting the data from external access and modification.\n",
        "\n",
        " Abstraction:\n",
        " Abstraction focuses on showing only the essential details of an object and hiding complex implementation details.\n",
        "\n",
        " Polymorphism:\n",
        " Polymorphism means \"many forms,\" and it allows objects of different classes to be treated in a general way, often with the same method call producing different actions.\n",
        "\n",
        " Advantages of OOP:\n",
        "\n",
        " Code Reusability:\n",
        " Inheritance promotes code reuse, reducing redundancy and development time.\n",
        "\n",
        " Modular Design:\n",
        " OOP encourages the creation of modular, independent units (objects), making software easier to understand, maintain, and debug.\n",
        "\n",
        " Scalability:\n",
        " OOP makes it easier to scale large projects by organizing them into manageable, interconnected modules.\n",
        "\n",
        " Real-World Modeling:\n",
        " OOP allows developers to model real-world entities and their relationships, making it a good fit for complex systems.\n"
      ],
      "metadata": {
        "id": "_B8EhFdswpWE"
      }
    },
    {
      "cell_type": "markdown",
      "source": [
        "2.  What is a class in OOP?\n",
        " - In Object-Oriented Programming (OOP), a class is a blueprint or template that defines the structure and behavior of objects. It acts as a container for data (attributes or variables) and actions (methods or functions) that are common to all instances of a specific type of object."
      ],
      "metadata": {
        "id": "iJzjCs7YyFHV"
      }
    },
    {
      "cell_type": "markdown",
      "source": [
        "3. What is an object in OOP?\n",
        " - In Object-Oriented Programming (OOP), an object is a fundamental unit that represents a real-world entity or concept. It's an instance of a class, encapsulating both data (attributes) and behavior (methods). Objects interact with each other by sending and receiving messages, triggering methods and potentially modifying their internal state."
      ],
      "metadata": {
        "id": "-3R5J7qAykZE"
      }
    },
    {
      "cell_type": "markdown",
      "source": [
        "4.  What is the difference between abstraction and encapsulation?\n",
        " - The primary difference between abstraction and encapsulation is that abstraction is a design level process that focuses on hiding the complex details and implementation of the code. In contrast, encapsulation is an implementation level process that focuses on hiding the data and controlling the visibility of the code."
      ],
      "metadata": {
        "id": "C0Zs8tGBzMF7"
      }
    },
    {
      "cell_type": "markdown",
      "source": [
        "5. What are dunder methods in Python?\n",
        " - Dunder methods, also known as magic methods, are special methods in Python that begin and end with double underscores (e.g., __init__, __str__, __len__). They allow classes to define how they behave with built-in operations and functions. When a dunder method is defined in a class, it overrides the default behavior for that operation.\n",
        "For example, __init__ is called when an object is created, __str__ is called when the str() function is used on an object, and __len__ is called when the len() function is used. Dunder methods enable operator overloading, allowing custom classes to work with operators like +, -, *, [], etc."
      ],
      "metadata": {
        "id": "TO7YnEn_zytl"
      }
    },
    {
      "cell_type": "code",
      "source": [
        "class MyList:\n",
        "    def __init__(self, data):\n",
        "        self.data = data\n",
        "\n",
        "    def __len__(self):\n",
        "        return len(self.data)\n",
        "\n",
        "    def __getitem__(self, index):\n",
        "        return self.data[index]\n",
        "\n",
        "    def __str__(self):\n",
        "        return str(self.data)\n",
        "\n",
        "# Usage\n",
        "my_list = MyList([1, 2, 3, 4, 5])\n",
        "print(len(my_list))  # Output: 5\n",
        "print(my_list[2])   # Output: 3\n",
        "print(my_list)      # Output: [1, 2, 3, 4, 5]\n"
      ],
      "metadata": {
        "id": "PHfb_Q9z1p2F"
      },
      "execution_count": null,
      "outputs": []
    },
    {
      "cell_type": "markdown",
      "source": [
        "6.  Explain the concept of inheritance in OOP?\n",
        " - In Object-Oriented Programming (OOP), inheritance is a mechanism that allows a class (the child or subclass) to inherit properties and methods from another class (the parent or superclass). This enables code reusability and a hierarchical organization of classes, fostering a more structured and modular design.\n",
        "Here's a more detailed breakdown:\n",
        "Core Concepts:\n",
        "Class Hierarchy:\n",
        "Inheritance creates a hierarchical structure where classes are related through the \"is-a\" relationship. For example, a Dog is a Animal, and a Car is a Vehicle.\n",
        "Code Reusability:\n",
        "Child classes inherit the attributes and methods from their parent class, avoiding redundant code. The child class can then add its own unique features or modify existing ones, as needed.\n",
        "Specialization:\n",
        "Inheritance allows you to create specialized versions of existing classes. A child class can inherit the general behavior of the parent and then add specific functionalities or behaviors tailored to its own needs.\n",
        "Parent and Child Classes:\n",
        "The class that is inherited from is called the parent or superclass, and the class that inherits is called the child or subclass.\n",
        "Inheritance Relationship:\n",
        "The inheritance relationship defines the \"is-a\" relationship between classes, such as \"a Cat is an Animal,\" or \"a Rectangle is a Shape\".\n",
        "Benefits of Inheritance:\n",
        "Reduced Redundancy:\n",
        "Inheritance promotes code reuse, reducing the need to rewrite the same code multiple times in different classes.\n",
        "Enhanced Modularity:\n",
        "By organizing classes into hierarchies, inheritance makes it easier to maintain and manage complex software projects.\n",
        "Improved Extensibility:\n",
        "Inheritance allows you to easily add new features or functionalities to existing classes without modifying the original code.\n",
        "Simplified Design:\n",
        "Inheritance promotes a cleaner and more organized code structure, making it easier to understand and maintain.\n",
        "Abstraction:\n",
        "Inheritance helps in achieving abstraction by allowing you to define a general class (parent) and then create specialized classes (children) based on it.\n",
        "Example:\n",
        "Imagine you have a Vehicle class with properties like color and engineType, and a move() method. You can create child classes like Car and Bicycle, inheriting the Vehicle properties and methods. Then, you can add specific properties and methods to each child class. For example, Car might have a doors property and a startEngine() method, while Bicycle might have a tireSize property and a pedal() method.\n",
        "Types of Inheritance:\n",
        "Single Inheritance: A child class inherits from only one parent class.\n",
        "Multiple Inheritance: A child class inherits from multiple parent classes (not supported by all languages).\n",
        "Multilevel Inheritance: A child class inherits from a parent class, which in turn inherits from another parent class.\n",
        "In summary, inheritance is a powerful tool in OOP that allows for code reuse, modularity, and a more organized approach to software development. It helps create hierarchical class structures and promotes the \"is-a\" relationship between classes, making it easier to model real-world concepts in code."
      ],
      "metadata": {
        "id": "BBQmIvea1qyZ"
      }
    },
    {
      "cell_type": "markdown",
      "source": [
        "7. What is polymorphism in OOP?\n",
        " - In Object-Oriented Programming (OOP), polymorphism, meaning \"many forms,\" allows objects of different classes to be treated as objects of a common superclass. This enables code reusability and flexibility because multiple classes can implement the same method in their own unique ways. It's a core concept that helps achieve abstraction and encapsulation."
      ],
      "metadata": {
        "id": "2N_rp71q2Awy"
      }
    },
    {
      "cell_type": "markdown",
      "source": [
        "8. How is encapsulation achieved in Python?\n",
        "  - Encapsulation in Python is achieved by restricting access to attributes and methods, effectively hiding the internal state of an object and preventing unintended external modifications. While Python doesn't enforce access modifiers like private in the same way as some other languages, it uses naming conventions to indicate the intended visibility of members.\n",
        "Access Modifiers\n",
        "Public:\n",
        "Members without any prefix are considered public and can be accessed from anywhere.\n",
        "Protected:\n",
        "Members prefixed with a single underscore _ are intended for internal use within the class and its subclasses. While accessible from outside, it signals that they should be treated as non-public.\n",
        "Private:\n",
        "Members prefixed with a double underscore __ are name-mangled by the interpreter, making them harder to access directly from outside the class. This provides a stronger hint of privacy, although it's still possible to access them with some effort."
      ],
      "metadata": {
        "id": "ReqIZm7o2WIZ"
      }
    },
    {
      "cell_type": "markdown",
      "source": [
        "9. What is a constructor in Python?\n",
        " - A constructor in Python is a special method within a class that initializes the attributes of an object when the object is created. It is automatically called when a new instance of a class is created. In Python, the constructor is named __init__.\n",
        "Constructors are essential for setting up the initial state of an object. They allow you to define the attributes an object will have and assign them initial values. This ensures that when an object is created, it is in a valid and usable state."
      ],
      "metadata": {
        "id": "bByPyFoQ2tMg"
      }
    },
    {
      "cell_type": "markdown",
      "source": [
        "10. What are class and static methods in Python?\n",
        " - In Python, class and static methods are special types of methods bound to a class rather than an instance of the class. They serve different purposes and are defined using decorators.\n",
        "Class Methods\n",
        "A class method is bound to the class and not the instance of the class. It receives the class itself as the first argument, conventionally named cls. Class methods are defined using the @classmethod decorator. They can access and modify class-level attributes but cannot access instance-specific attributes. Class methods are often used as factory methods for creating instances of the class or for performing operations that relate to the class as a whole."
      ],
      "metadata": {
        "id": "97B7NnX425-Q"
      }
    },
    {
      "cell_type": "code",
      "source": [
        "class MyClass:\n",
        "    class_attribute = \"Class Attribute\"\n",
        "\n",
        "    def __init__(self, instance_attribute):\n",
        "        self.instance_attribute = instance_attribute\n",
        "\n",
        "    @classmethod\n",
        "    def class_method(cls):\n",
        "        return cls.class_attribute\n",
        "\n",
        "    @classmethod\n",
        "    def create_instance(cls, instance_attribute):\n",
        "        return cls(instance_attribute)"
      ],
      "metadata": {
        "id": "RAAM5uHV3FSn"
      },
      "execution_count": null,
      "outputs": []
    },
    {
      "cell_type": "markdown",
      "source": [
        "Static Methods\n",
        "A static method is also bound to the class, but it does not receive the class or instance as an argument. It is essentially a regular function that is part of the class's namespace. Static methods are defined using the @staticmethod decorator. They cannot access or modify class or instance attributes directly. Static methods are often used for utility functions that are related to the class but do not depend on its state."
      ],
      "metadata": {
        "id": "QhvewYQA3IHk"
      }
    },
    {
      "cell_type": "code",
      "source": [
        "class MyClass:\n",
        "    @staticmethod\n",
        "    def static_method(arg1, arg2):\n",
        "        return arg1 + arg2"
      ],
      "metadata": {
        "id": "PZIlgARj3LyZ"
      },
      "execution_count": null,
      "outputs": []
    },
    {
      "cell_type": "markdown",
      "source": [
        "11.  What is method overloading in Python?\n",
        " - Method overloading in Python refers to the ability to define multiple methods with the same name within a class, but with different parameters. Unlike some other programming languages, Python does not natively support method overloading in the traditional sense with strict signature matching. However, it achieves similar functionality through techniques like default arguments and variable-length argument lists."
      ],
      "metadata": {
        "id": "XMA8esjU3Nvh"
      }
    },
    {
      "cell_type": "code",
      "source": [
        "class Calculator:\n",
        "    def add(self, a, b=None, c=None):\n",
        "        if b is not None and c is not None:\n",
        "            return a + b + c\n",
        "        elif b is not None:\n",
        "            return a + b\n",
        "        else:\n",
        "            return a"
      ],
      "metadata": {
        "id": "xREz7e6X3psQ"
      },
      "execution_count": null,
      "outputs": []
    },
    {
      "cell_type": "markdown",
      "source": [
        "In this example, the add method is defined to handle different numbers of arguments. When called with two arguments, it adds them. When called with three arguments, it adds all three. This simulates method overloading by providing flexibility in how the method is called."
      ],
      "metadata": {
        "id": "0IQ6Kdvv3tLM"
      }
    },
    {
      "cell_type": "markdown",
      "source": [
        "12.  What is method overriding in OOP?\n",
        " - In Object-Oriented Programming (OOP), method overriding allows a subclass to provide a specific implementation of a method that is already defined in its parent class (superclass). This enables the subclass to modify or extend the method's behavior, ensuring the correct method is called based on the object's type, a key aspect of polymorphism.\n",
        "Elaboration:\n",
        "Inheritance:\n",
        "Method overriding is closely related to inheritance, where a subclass inherits properties and methods from its parent class.\n",
        "Redefining Methods:\n",
        "When a subclass provides its own implementation of a parent class method, it's said to override that method.\n",
        "Polymorphism:\n",
        "Method overriding enables polymorphism, allowing objects of different classes to be treated as objects of a common type.\n",
        "Runtime Binding:\n",
        "The decision of which method to call (the overridden or the original) is made at runtime, based on the object's type.\n",
        "Example:\n",
        "Imagine a Vehicle class with a start() method. A Car and Bike class, inheriting from Vehicle, could override the start() method to provide specific starting behaviors for cars and bikes.\n",
        "Benefits:\n",
        "Method overriding promotes code reusability and flexibility, allowing developers to modify or extend the behavior of inherited methods without directly modifying the original code."
      ],
      "metadata": {
        "id": "q97fCaJI3wH2"
      }
    },
    {
      "cell_type": "markdown",
      "source": [
        "13. What is a property decorator in Python?\n",
        " - In Python, a property decorator is a built-in feature that allows methods to be accessed like attributes. It provides a way to encapsulate the logic for getting, setting, and deleting an attribute within a class, while still allowing access to it using simple attribute syntax. This mechanism enables controlled access and modification of class attributes, adding flexibility and data protection."
      ],
      "metadata": {
        "id": "hBpKAbWF4WXW"
      }
    },
    {
      "cell_type": "code",
      "source": [
        "class MyClass:\n",
        "    def __init__(self, value):\n",
        "        self._value = value\n",
        "\n",
        "    @property\n",
        "    def value(self):\n",
        "        return self._value\n",
        "\n",
        "    @value.setter\n",
        "    def value(self, new_value):\n",
        "        if new_value >= 0:\n",
        "            self._value = new_value\n",
        "        else:\n",
        "            raise ValueError(\"Value must be non-negative\")\n",
        "\n",
        "    @value.deleter\n",
        "    def value(self):\n",
        "        del self._value\n",
        "\n",
        "# Usage\n",
        "obj = MyClass(10)\n",
        "print(obj.value)  # Accessing as an attribute (getter)\n",
        "obj.value = 20     # Setting as an attribute (setter)\n",
        "del obj.value      # Deleting as an attribute (deleter)"
      ],
      "metadata": {
        "id": "bi3u7fER4tTa"
      },
      "execution_count": null,
      "outputs": []
    },
    {
      "cell_type": "markdown",
      "source": [
        "14. Why is polymorphism important in OOP?\n",
        " - Polymorphism is crucial in Object-Oriented Programming (OOP) because it enables code reuse, flexibility, and extensibility. It allows objects of different classes to be treated as objects of a common type, simplifying code and making it easier to adapt to new situations.\n",
        "Here's why polymorphism is important:\n",
        "Code Reusability:\n",
        "Polymorphism allows you to use the same method name for different classes, reducing redundancy and promoting code reuse.\n",
        "Flexibility and Adaptability:\n",
        "It enables you to write generic code that can work with multiple types of objects without needing to know their specific classes, making your code more flexible and adaptable to changing requirements.\n",
        "Extensibility:\n",
        "Polymorphism makes it easy to add new classes to your code without having to modify existing code, as long as the new classes adhere to the same interface.\n",
        "Improved Readability:\n",
        "By using a single method name for different actions, polymorphism can improve the readability and maintainability of your code.\n",
        "Dynamic Method Dispatch:\n",
        "Polymorphism allows for dynamic method dispatch, where the specific method to be called is determined at runtime based on the object's actual type, according to PW Skills.\n",
        "Abstraction:\n",
        "Polymorphism allows you to work at a higher level of abstraction, dealing with objects of a common type without needing to know their specific implementation details.\n",
        "Reduced Conditional Statements:\n",
        "Polymorphism can replace multiple conditional statements (like if-else blocks) with a single method call, simplifying the code.\n",
        "In essence, polymorphism is a core principle of OOP that allows you to write more efficient, flexible, and maintainable code.\n"
      ],
      "metadata": {
        "id": "yxzmCQ8042In"
      }
    },
    {
      "cell_type": "markdown",
      "source": [
        "15. What is an abstract class in Python?\n",
        " - An abstract class in Python is a class that cannot be instantiated directly and serves as a blueprint for other classes. It defines methods that subclasses must implement, ensuring a consistent interface. Abstract classes are created using the abc (Abstract Base Classes) module.\n",
        "To define an abstract class, you inherit from ABC and use the @abstractmethod decorator for abstract methods. Subclasses must override these abstract methods. If a subclass fails to implement an abstract method, it also becomes an abstract class."
      ],
      "metadata": {
        "id": "3bwQjdwv5Egd"
      }
    },
    {
      "cell_type": "markdown",
      "source": [
        "16. What are the advantages of OOP?\n",
        " - Object-oriented programming (OOP) offers numerous advantages that make it a popular choice for software development. These benefits include improved code organization, reusability, and maintainability, as well as enhanced security and scalability. OOP promotes a modular and structured approach to problem-solving, making it easier to debug, modify, and extend software.\n",
        "Here's a more detailed look at the key advantages:\n",
        "\n",
        "Modularity and Organization:\n",
        "OOP breaks down complex systems into smaller, self-contained modules called objects, each with its own data and behavior.\n",
        "This modularity makes code easier to understand, maintain, and debug.\n",
        "Encapsulation, a core principle of OOP, hides internal implementation details and provides a clear interface, further simplifying the code.\n",
        "\n",
        "Reusability and Inheritance:\n",
        "OOP allows developers to create reusable code components (classes) that can be inherited by other classes.\n",
        "Inheritance enables the creation of specialized classes (child classes) that inherit properties and behaviors from their parent classes, reducing code duplication and promoting efficiency.\n",
        "\n",
        "Flexibility and Polymorphism:\n",
        "Polymorphism allows objects of different classes to be treated in a generic way, promoting flexibility in code design.\n",
        "This flexibility is crucial for adapting to changing requirements and expanding software functionality.\n",
        "\n",
        "Enhanced Problem-Solving:\n",
        "OOP aligns well with real-world problem-solving, allowing developers to model complex systems and interactions more naturally.\n",
        "This structured approach makes it easier to break down problems into smaller, manageable parts, leading to more efficient solutions.\n",
        "\n",
        "Scalability and Adaptability:\n",
        "OOP's modular structure and code reusability make it easier to scale applications and adapt to changing requirements.\n",
        "New features and functionalities can be added with minimal impact on existing code, promoting adaptability and long-term maintainability.\n",
        "\n",
        "Improved Security:\n",
        "Encapsulation and abstraction, key OOP principles, help to protect data and code from unauthorized access, enhancing security.\n",
        "By limiting access to internal implementation details, OOP minimizes the risk of errors and vulnerabilities.\n",
        "\n",
        "Easier Debugging and Troubleshooting:\n",
        "OOP's modularity and encapsulation make it easier to pinpoint errors and isolate problems within specific objects.\n",
        "This targeted approach simplifies debugging and reduces the time required to fix issues.\n",
        "Enhanced Productivity:\n",
        "OOP promotes efficient code development through reusability, inheritance, and modularity, leading to increased productivity.\n",
        "Developers can focus on implementing new features rather than rewriting existing code, saving time and effort."
      ],
      "metadata": {
        "id": "PkAi-kog5O69"
      }
    },
    {
      "cell_type": "markdown",
      "source": [
        "17. What is the difference between a class variable and an instance variable?\n",
        " - Class variables are shared by all instances (objects) of a class, while instance variables are unique to each instance. Class variables are typically used to store data that is the same across all objects of that class, like a constant or shared value. Instance variables are used to store data that is specific to each individual object.\n",
        "Here's a more detailed breakdown:\n",
        "Class Variables (Static Variables):\n",
        "Exist at the class level, not tied to a specific object.\n",
        "Shared by all instances of the class.\n",
        "Only one copy of the variable exists for the entire class.\n",
        "Accessed using the class name (e.g., ClassName.variableName).\n",
        "Instance Variables (Non-Static Variables):\n",
        "Exist at the object level.\n",
        "Each instance of the class has its own copy of the instance variable.\n",
        "Accessed using object references (e.g., objectName.variableName)."
      ],
      "metadata": {
        "id": "0E6ta1mI5ist"
      }
    },
    {
      "cell_type": "markdown",
      "source": [
        "18. What is multiple inheritance in Python?\n",
        " - Multiple inheritance in Python is a feature that allows a class to inherit attributes and methods from more than one parent class. This means that a child class can inherit and combine functionalities from multiple independent classes. When a class inherits from multiple parent classes, it gains access to all the methods and attributes of those parent classes. If there are methods with the same name in multiple parent classes, Python uses the Method Resolution Order (MRO) to determine which method to call. The MRO follows a specific order to ensure that methods are resolved predictably."
      ],
      "metadata": {
        "id": "vxtNsCrJ6F-T"
      }
    },
    {
      "cell_type": "code",
      "source": [
        "class Engine:\n",
        "    def start(self):\n",
        "        return \"Engine started\"\n",
        "\n",
        "class Electric:\n",
        "    def charge(self):\n",
        "        return \"Charging\"\n",
        "\n",
        "class HybridCar(Engine, Electric):\n",
        "    def __init__(self, model):\n",
        "        self.model = model\n",
        "\n",
        "    def description(self):\n",
        "        return f\"This is a {self.model} hybrid car. {self.start()}, {self.charge()}.\"\n",
        "\n",
        "my_car = HybridCar(\"Prius\")\n",
        "print(my_car.description())"
      ],
      "metadata": {
        "id": "6MzMIGbp6Vu_"
      },
      "execution_count": null,
      "outputs": []
    },
    {
      "cell_type": "markdown",
      "source": [
        "19. Explain the purpose of ‘’__str__’ and ‘__repr__’ ‘ methods in Python.\n",
        " - In Python, __str__ and __repr__ are special methods used to define how objects are represented as strings. They are both intended to return a string representation of an object, but they serve different purposes and are used in different contexts.\n",
        "__str__:\n",
        "This method is intended to return a human-readable, or informal, string representation of an object. It is called by the built-in str() function and implicitly when using print() on an object. The goal of __str__ is to provide a string that is easily understandable for end-users. If __str__ is not defined, Python falls back to using __repr__ if it is defined.\n",
        "__repr__:\n",
        "This method is intended to return an unambiguous, or formal, string representation of an object. It is called by the built-in repr() function and in the interactive interpreter when an expression is evaluated. The goal of __repr__ is to provide a string that can be used to recreate the object, or at least provide detailed information for debugging. If __repr__ is not defined, the default representation is used, which is often not very informative.\n",
        "In practice, it is recommended to implement both __str__ and __repr__ in your classes. A common pattern is to make __repr__ return a string that looks like a constructor call, while __str__ returns a more user-friendly string."
      ],
      "metadata": {
        "id": "mA3-3fSt6bok"
      }
    },
    {
      "cell_type": "code",
      "source": [
        "class Point:\n",
        "    def __init__(self, x, y):\n",
        "        self.x = x\n",
        "        self.y = y\n",
        "\n",
        "    def __str__(self):\n",
        "        return f\"({self.x}, {self.y})\"\n",
        "\n",
        "    def __repr__(self):\n",
        "        return f\"Point({self.x}, {self.y})\"\n",
        "\n",
        "p = Point(2, 3)\n",
        "print(str(p))  # Output: (2, 3)\n",
        "print(repr(p)) # Output: Point(2, 3)"
      ],
      "metadata": {
        "id": "yMUuzl746wDS"
      },
      "execution_count": null,
      "outputs": []
    },
    {
      "cell_type": "markdown",
      "source": [
        "In this example, __str__ returns a simple coordinate representation, while __repr__ returns a string that could be used to recreate the Point object. This distinction is helpful for both users and developers who need different levels of detail about an object."
      ],
      "metadata": {
        "id": "mRcHyVfd6xDq"
      }
    },
    {
      "cell_type": "markdown",
      "source": [
        "20. What is the significance of the ‘super()’ function in Python?\n",
        " - The super() function in Python is used to call methods from a parent class in a subclass. It provides a way to access and utilize inherited methods, especially when overriding or extending them in the subclass. The primary significance of super() lies in its role in supporting inheritance and code reusability.\n",
        "When a subclass overrides a method of its parent class, super() enables the subclass to call the original implementation of the method from the parent class. This is useful when the subclass wants to extend the functionality of the parent class method while still retaining its core behavior.\n",
        "super() also simplifies the process of initializing inherited attributes in the subclass's constructor (__init__). By calling the parent class's __init__() method using super(), the subclass ensures that inherited attributes are properly initialized before adding its own specific attributes.\n",
        "Furthermore, super() promotes code maintainability and reduces redundancy. It allows for a more organized and efficient way of managing inheritance relationships, making code easier to understand and modify."
      ],
      "metadata": {
        "id": "GI8Snzho61Em"
      }
    },
    {
      "cell_type": "markdown",
      "source": [
        "21. What is the significance of the __del__ method in Python?\n",
        " - The __del__ method in Python is a special method, also known as a destructor. It is called when an object is about to be destroyed, typically during garbage collection. Its primary significance lies in its ability to perform cleanup actions before an object is removed from memory.\n",
        "The __del__ method is automatically invoked when all references to an object have been deleted, or when the program exits. It provides an opportunity to release external resources held by the object, such as closing files, releasing network connections, or freeing up memory allocated outside of Python's memory management.\n",
        "However, the exact timing of __del__ method execution is not guaranteed due to Python's garbage collection mechanism. It is not recommended to rely on __del__ for critical operations that must be performed immediately. In many cases, using context managers or explicit cleanup methods is a more reliable approach."
      ],
      "metadata": {
        "id": "5WuB1Lkz7C1k"
      }
    },
    {
      "cell_type": "markdown",
      "source": [
        "22.  What is the difference between @staticmethod and @classmethod in Python?\n",
        " - The key difference between @staticmethod and @classmethod lies in their interaction with the class and its instances.\n",
        "@staticmethod:\n",
        "This decorator defines a method that doesn't receive any implicit arguments (neither the instance self nor the class cls). It's essentially a regular function that's part of the class's namespace. It cannot access or modify the class or instance state.\n",
        "@classmethod:\n",
        "This decorator defines a method that receives the class itself as the first argument, conventionally named cls. This allows the method to access and modify class-level attributes and methods. It can also be used to create alternative constructors or factory methods."
      ],
      "metadata": {
        "id": "I06oUhN77W_u"
      }
    },
    {
      "cell_type": "markdown",
      "source": [
        "23.  How does polymorphism work in Python with inheritance?\n",
        " - Polymorphism in Python, specifically within the context of inheritance, allows objects of different classes to respond to the same method call in their own specific ways. This is achieved through method overriding, where a subclass provides its own implementation of a method already defined in its parent class.\n",
        "When a method is called on an object, Python checks the object's class for the method's implementation. If the method is not found, Python looks for it in the parent class, and so on, up the inheritance hierarchy. If a subclass overrides a method, its implementation is used instead of the parent's version. This mechanism enables different classes to respond uniquely to the same method call, showcasing polymorphism."
      ],
      "metadata": {
        "id": "2uuhdcmH7m2p"
      }
    },
    {
      "cell_type": "code",
      "source": [
        "class Animal:\n",
        "    def speak(self):\n",
        "        print(\"Generic animal sound\")\n",
        "\n",
        "class Dog(Animal):\n",
        "    def speak(self):\n",
        "        print(\"Woof!\")\n",
        "\n",
        "class Cat(Animal):\n",
        "    def speak(self):\n",
        "        print(\"Meow!\")\n",
        "\n",
        "def animal_sound(animal):\n",
        "    animal.speak()\n",
        "\n",
        "dog = Dog()\n",
        "cat = Cat()\n",
        "animal = Animal()\n",
        "\n",
        "animal_sound(dog) # Output: Woof!\n",
        "animal_sound(cat) # Output: Meow!\n",
        "animal_sound(animal) # Output: Generic animal sound"
      ],
      "metadata": {
        "id": "q0UTyy-M8SSa"
      },
      "execution_count": null,
      "outputs": []
    },
    {
      "cell_type": "markdown",
      "source": [
        "24. What is method chaining in Python OOP?\n",
        " - Method chaining in Python is a programming technique used in object-oriented programming where multiple methods are called sequentially on the same object in a single line of code. This is achieved by having each method in the chain return the object instance (self) after performing its operation. This allows subsequent methods to be called directly on the returned object, creating a chain of method calls."
      ],
      "metadata": {
        "id": "QBgYVHyU8Xqz"
      }
    },
    {
      "cell_type": "code",
      "source": [
        "class Calculator:\n",
        "    def __init__(self, value=0):\n",
        "        self.value = value\n",
        "\n",
        "    def add(self, num):\n",
        "        self.value += num\n",
        "        return self\n",
        "\n",
        "    def subtract(self, num):\n",
        "        self.value -= num\n",
        "        return self\n",
        "\n",
        "    def multiply(self, num):\n",
        "        self.value *= num\n",
        "        return self\n",
        "\n",
        "    def get_value(self):\n",
        "        return self.value\n",
        "\n",
        "# Example of method chaining\n",
        "calculator = Calculator(10)\n",
        "result = calculator.add(5).subtract(3).multiply(2).get_value()\n",
        "print(result)  # Output: 24"
      ],
      "metadata": {
        "id": "eY3ZCF2V-hs0"
      },
      "execution_count": null,
      "outputs": []
    },
    {
      "cell_type": "markdown",
      "source": [
        "In this example, the add, subtract, and multiply methods each return self, allowing them to be chained together. The get_value method is called at the end to retrieve the final result. Method chaining can improve code readability and conciseness by reducing the need for temporary variables and multiple lines of code."
      ],
      "metadata": {
        "id": "6G73y-Ed-lNx"
      }
    },
    {
      "cell_type": "markdown",
      "source": [
        "25. What is the purpose of the __call__ method in Python?\n",
        " - The __call__ method in Python enables instances of a class to be called like regular functions. When a class defines the __call__ method, its instances become callable objects. This allows you to write code where objects can be invoked directly, similar to how functions are called."
      ],
      "metadata": {
        "id": "if6bwoOz-n8k"
      }
    },
    {
      "cell_type": "code",
      "source": [
        "class Example:\n",
        "    def __init__(self, name):\n",
        "        self.name = name\n",
        "\n",
        "    def __call__(self, greeting):\n",
        "        return f\"{greeting}, {self.name}!\"\n",
        "\n",
        "obj = Example(\"World\")\n",
        "result = obj(\"Hello\")\n",
        "print(result) # Output: Hello, World!"
      ],
      "metadata": {
        "id": "yNRqagz1_Evs"
      },
      "execution_count": null,
      "outputs": []
    },
    {
      "cell_type": "markdown",
      "source": [
        "In this example, obj is an instance of the Example class. Because Example defines __call__, obj can be called like a function: obj(\"Hello\"). The __call__ method then executes, returning the desired string. This mechanism is useful for creating objects that behave like functions, often employed in situations such as decorators or stateful functions."
      ],
      "metadata": {
        "id": "ja_tMuRH_Hwr"
      }
    },
    {
      "cell_type": "markdown",
      "source": [
        "# Practical Questions"
      ],
      "metadata": {
        "id": "DfnDdrYK_M3a"
      }
    },
    {
      "cell_type": "markdown",
      "source": [
        "1. Create a parent class Animal with a method speak() that prints a generic message. Create a child class Dog\n",
        "that overrides the speak() method to print \"Bark!\".\n",
        " - Here's a Python implementation with a parent class Animal and a child class Dog that overrides the speak() method:"
      ],
      "metadata": {
        "id": "nnVFnwjR_TEq"
      }
    },
    {
      "cell_type": "code",
      "source": [
        "class Animal:\n",
        "    def speak(self):\n",
        "        print(\"I make a sound\")\n",
        "\n",
        "class Dog(Animal):\n",
        "    def speak(self):\n",
        "        print(\"Bark!\")"
      ],
      "metadata": {
        "id": "tNb3TPbp_pSD"
      },
      "execution_count": null,
      "outputs": []
    },
    {
      "cell_type": "markdown",
      "source": [
        "2. Write a program to create an abstract class Shape with a method area(). Derive classes Circle and Rectangle\n",
        "from it and implement the area() method in both.\n",
        " - I'll create a Python program with an abstract class Shape and derived classes Circle and Rectangle, implementing the area() method for each. I'll use the ABC (Abstract Base Class) module to define the abstract class.\n",
        " This program:\n",
        "\n",
        "Defines an abstract base class Shape using ABC with an abstract method area().\n",
        "Creates a Circle class that inherits from Shape, takes a radius parameter, and implements area() using the formula πr².\n",
        "Creates a Rectangle class that inherits from Shape, takes width and height parameters, and implements area() using width × height.\n",
        "Includes example usage that creates a circle (radius 5) and a rectangle (width 4, height 6), then prints their areas.\n",
        "When you run this program, it will output the areas of the circle and rectangle, formatted to two decimal places. The abstract class ensures that any derived class must implement the area() method, enforcing a consistent interface."
      ],
      "metadata": {
        "id": "Yd-QDBvC__5g"
      }
    },
    {
      "cell_type": "code",
      "source": [
        "from abc import ABC, abstractmethod\n",
        "import math\n",
        "\n",
        "# Abstract base class\n",
        "class Shape(ABC):\n",
        "    @abstractmethod\n",
        "    def area(self):\n",
        "        pass\n",
        "\n",
        "# Circle class inheriting from Shape\n",
        "class Circle(Shape):\n",
        "    def __init__(self, radius):\n",
        "        self.radius = radius\n",
        "\n",
        "    def area(self):\n",
        "        return math.pi * self.radius ** 2\n",
        "\n",
        "# Rectangle class inheriting from Shape\n",
        "class Rectangle(Shape):\n",
        "    def __init__(self, width, height):\n",
        "        self.width = width\n",
        "        self.height = height\n",
        "\n",
        "    def area(self):\n",
        "        return self.width * self.height\n",
        "\n",
        "# Example usage\n",
        "if __name__ == \"__main__\":\n",
        "    # Create instances\n",
        "    circle = Circle(5)\n",
        "    rectangle = Rectangle(4, 6)\n",
        "\n",
        "    # Calculate and print areas\n",
        "    print(f\"Circle area: {circle.area():.2f}\")\n",
        "    print(f\"Rectangle area: {rectangle.area():.2f}\")"
      ],
      "metadata": {
        "id": "IcTr9MaYAfBM"
      },
      "execution_count": null,
      "outputs": []
    },
    {
      "cell_type": "markdown",
      "source": [
        "3.  Implement a multi-level inheritance scenario where a class Vehicle has an attribute type. Derive a class Car\n",
        "and further derive a class ElectricCar that adds a battery attribute.\n",
        " - I'll create a Python program demonstrating multi-level inheritance with a Vehicle base class, a Car class derived from Vehicle, and an ElectricCar class derived from Car. Each class will have appropriate attributes, and I'll include a method to display the details of each class.\n",
        " This program:\n",
        "\n",
        "Defines a base class Vehicle with a vehicle_type attribute and a display_info method to show vehicle details.\n",
        "Derives a Car class from Vehicle, adding a brand attribute and overriding display_info to include the brand.\n",
        "Derives an ElectricCar class from Car, adding a battery_capacity attribute and further overriding display_info to include battery details.\n",
        "Uses super() to call the parent class's methods and initialize attributes, ensuring proper inheritance.\n",
        "Includes example usage that creates instances of each class and prints their details.\n",
        "When you run this program, it will output:"
      ],
      "metadata": {
        "id": "Aamu9ROIAgPz"
      }
    },
    {
      "cell_type": "code",
      "source": [
        "Vehicle Type: Generic\n",
        "Vehicle Type: Sedan, Brand: Toyota\n",
        "Vehicle Type: Electric, Brand: Tesla, Battery Capacity: 75 kWh"
      ],
      "metadata": {
        "id": "Ud-zxD9bBFK2"
      },
      "execution_count": null,
      "outputs": []
    },
    {
      "cell_type": "markdown",
      "source": [
        "This demonstrates multi-level inheritance where ElectricCar inherits from Car, which in turn inherits from Vehicle, with each level adding specific attributes and extending the display_info method."
      ],
      "metadata": {
        "id": "KDHRr4cyBHxa"
      }
    },
    {
      "cell_type": "code",
      "source": [
        "class Vehicle:\n",
        "    def __init__(self, vehicle_type):\n",
        "        self.vehicle_type = vehicle_type\n",
        "\n",
        "    def display_info(self):\n",
        "        return f\"Vehicle Type: {self.vehicle_type}\"\n",
        "\n",
        "class Car(Vehicle):\n",
        "    def __init__(self, vehicle_type, brand):\n",
        "        super().__init__(vehicle_type)\n",
        "        self.brand = brand\n",
        "\n",
        "    def display_info(self):\n",
        "        return f\"{super().display_info()}, Brand: {self.brand}\"\n",
        "\n",
        "class ElectricCar(Car):\n",
        "    def __init__(self, vehicle_type, brand, battery_capacity):\n",
        "        super().__init__(vehicle_type, brand)\n",
        "        self.battery_capacity = battery_capacity\n",
        "\n",
        "    def display_info(self):\n",
        "        return f\"{super().display_info()}, Battery Capacity: {self.battery_capacity} kWh\"\n",
        "\n",
        "# Example usage\n",
        "if __name__ == \"__main__\":\n",
        "    # Create instances\n",
        "    vehicle = Vehicle(\"Generic\")\n",
        "    car = Car(\"Sedan\", \"Toyota\")\n",
        "    electric_car = ElectricCar(\"Electric\", \"Tesla\", 75)\n",
        "\n",
        "    # Display information\n",
        "    print(vehicle.display_info())\n",
        "    print(car.display_info())\n",
        "    print(electric_car.display_info())"
      ],
      "metadata": {
        "id": "ZsZLhm12BMBE"
      },
      "execution_count": null,
      "outputs": []
    },
    {
      "cell_type": "markdown",
      "source": [
        "4.  Demonstrate polymorphism by creating a base class Bird with a method fly(). Create two derived classes\n",
        "Sparrow and Penguin that override the fly() method.\n",
        " - I'll create a Python program to demonstrate polymorphism using a base class Bird with a fly() method, and two derived classes Sparrow and Penguin that override the fly() method to provide specific behaviors. Polymorphism will be shown by calling fly() on different bird types through a common interface.\n",
        " This program:\n",
        "\n",
        "Defines a base class Bird with a generic fly() method that returns a default message.\n",
        "Derives a Sparrow class from Bird, overriding fly() to describe how a sparrow flies.\n",
        "Derives a Penguin class from Bird, overriding fly() to indicate that penguins cannot fly but have other abilities.\n",
        "Demonstrates polymorphism by creating a list of Bird objects (a Sparrow and a Penguin) and calling fly() on each, which invokes the appropriate overridden method based on the actual object type.\n",
        "When you run this program, it will output:"
      ],
      "metadata": {
        "id": "HzaRLjITBi1g"
      }
    },
    {
      "cell_type": "code",
      "source": [
        "Sparrow flaps its wings rapidly to soar through the sky.\n",
        "Penguin cannot fly but waddles gracefully on land and swims in water."
      ],
      "metadata": {
        "id": "L-Khn17eB9Gw"
      },
      "execution_count": null,
      "outputs": []
    },
    {
      "cell_type": "markdown",
      "source": [
        "This showcases polymorphism, as the same method call (fly()) produces different behaviors depending on the object's actual class, despite being accessed through the base class interface."
      ],
      "metadata": {
        "id": "NYQ4KugKCA5x"
      }
    },
    {
      "cell_type": "code",
      "source": [
        "class Bird:\n",
        "    def fly(self):\n",
        "        return \"Most birds can fly.\"\n",
        "\n",
        "class Sparrow(Bird):\n",
        "    def fly(self):\n",
        "        return \"Sparrow flaps its wings rapidly to soar through the sky.\"\n",
        "\n",
        "class Penguin(Bird):\n",
        "    def fly(self):\n",
        "        return \"Penguin cannot fly but waddles gracefully on land and swims in water.\"\n",
        "\n",
        "# Example usage to demonstrate polymorphism\n",
        "if __name__ == \"__main__\":\n",
        "    # Create a list of different bird objects\n",
        "    birds = [Sparrow(), Penguin()]\n",
        "\n",
        "    # Call fly() method on each bird\n",
        "    for bird in birds:\n",
        "        print(bird.fly())"
      ],
      "metadata": {
        "id": "Nr50F983CEk7"
      },
      "execution_count": null,
      "outputs": []
    },
    {
      "cell_type": "markdown",
      "source": [
        "5. Write a program to demonstrate encapsulation by creating a class BankAccount with private attributes\n",
        "balance and methods to deposit, withdraw, and check balance.\n",
        " - I'll create a Python program to demonstrate encapsulation using a BankAccount class with a private attribute for balance and methods to deposit, withdraw, and check the balance. In Python, encapsulation is typically achieved using name mangling with double underscores for private attributes.\n",
        " This program:\n",
        "\n",
        "Defines a BankAccount class with a public account_holder attribute and a private __balance attribute (using double underscores for name mangling).\n",
        "Includes a deposit method that adds a positive amount to the balance and returns a confirmation message.\n",
        "Includes a withdraw method that deducts a positive amount from the balance if sufficient funds are available, returning a confirmation or error message.\n",
        "Includes a get_balance method to retrieve the current balance in a formatted string.\n",
        "Demonstrates encapsulation by restricting direct access to __balance outside the class, ensuring all balance modifications occur through controlled methods.\n",
        "Provides example usage to show the functionality of the methods.\n",
        "When you run this program, it will output:"
      ],
      "metadata": {
        "id": "1TvxBAVaCG65"
      }
    },
    {
      "cell_type": "code",
      "source": [
        "Account balance for John Doe: $1000.00\n",
        "Deposited $500.00. New balance: $1500.00\n",
        "Withdrew $200.00. New balance: $1300.00\n",
        "Account balance for John Doe: $1300.00\n",
        "Insufficient funds.\n",
        "Invalid deposit amount. Please enter a positive value."
      ],
      "metadata": {
        "id": "MEjI7eUSCb84"
      },
      "execution_count": null,
      "outputs": []
    },
    {
      "cell_type": "markdown",
      "source": [
        "This demonstrates encapsulation by:\n",
        "\n",
        "Hiding the __balance attribute from direct external access.\n",
        "Providing controlled access through public methods (deposit, withdraw, get_balance).\n",
        "Ensuring data integrity with validation checks (e.g., positive amounts, sufficient funds)."
      ],
      "metadata": {
        "id": "OT75tKXqCd3F"
      }
    },
    {
      "cell_type": "code",
      "source": [
        "class BankAccount:\n",
        "    def __init__(self, account_holder, initial_balance=0):\n",
        "        self.account_holder = account_holder\n",
        "        self.__balance = initial_balance  # Private attribute\n",
        "\n",
        "    def deposit(self, amount):\n",
        "        if amount > 0:\n",
        "            self.__balance += amount\n",
        "            return f\"Deposited ${amount:.2f}. New balance: ${self.__balance:.2f}\"\n",
        "        return \"Invalid deposit amount. Please enter a positive value.\"\n",
        "\n",
        "    def withdraw(self, amount):\n",
        "        if amount > 0:\n",
        "            if amount <= self.__balance:\n",
        "                self.__balance -= amount\n",
        "                return f\"Withdrew ${amount:.2f}. New balance: ${self.__balance:.2f}\"\n",
        "            return \"Insufficient funds.\"\n",
        "        return \"Invalid withdrawal amount. Please enter a positive value.\"\n",
        "\n",
        "    def get_balance(self):\n",
        "        return f\"Account balance for {self.account_holder}: ${self.__balance:.2f}\"\n",
        "\n",
        "# Example usage\n",
        "if __name__ == \"__main__\":\n",
        "    # Create a bank account\n",
        "    account = BankAccount(\"John Doe\", 1000)\n",
        "\n",
        "    # Perform operations\n",
        "    print(account.get_balance())\n",
        "    print(account.deposit(500))\n",
        "    print(account.withdraw(200))\n",
        "    print(account.get_balance())\n",
        "    print(account.withdraw(2000))  # Attempt to withdraw more than balance\n",
        "    print(account.deposit(-50))    # Attempt invalid deposit"
      ],
      "metadata": {
        "id": "nO1PTJ1ICg08"
      },
      "execution_count": null,
      "outputs": []
    },
    {
      "cell_type": "markdown",
      "source": [
        "6.  Demonstrate runtime polymorphism using a method play() in a base class Instrument. Derive classes Guitar\n",
        "and Piano that implement their own version of play().\n",
        " - I'll create a Python program to demonstrate runtime polymorphism using a base class Instrument with a play() method, and two derived classes Guitar and Piano that override the play() method. Runtime polymorphism will be shown by calling play() on different instrument objects through a common interface, with the actual method executed determined by the object's type at runtime.\n",
        " This program:\n",
        "\n",
        "Defines a base class Instrument with a generic play() method that returns a default message.\n",
        "Derives a Guitar class from Instrument, overriding play() to describe how a guitar is played.\n",
        "Derives a Piano class from Instrument, overriding play() to describe how a piano is played.\n",
        "Demonstrates runtime polymorphism by creating a list of Instrument objects (a Guitar and a Piano) and calling play() on each, which invokes the overridden method based on the actual object type at runtime.\n",
        "When you run this program, it will output:"
      ],
      "metadata": {
        "id": "E4Rh8-VtCmvN"
      }
    },
    {
      "cell_type": "code",
      "source": [
        "Guitar strums with a melodic chord progression.\n",
        "Piano plays a harmonious melody with flowing arpeggios."
      ],
      "metadata": {
        "id": "CrkdUTL7C8ZT"
      },
      "execution_count": null,
      "outputs": []
    },
    {
      "cell_type": "markdown",
      "source": [
        "This showcases runtime polymorphism, as the same method call (play()) produces different behaviors depending on the object's actual class (Guitar or Piano), even though the objects are referenced through the base Instrument type. The method executed is determined at runtime based on the object's actual type, not the reference type."
      ],
      "metadata": {
        "id": "jT6tM5T2C-eg"
      }
    },
    {
      "cell_type": "code",
      "source": [
        "class Instrument:\n",
        "    def play(self):\n",
        "        return \"Instrument is being played.\"\n",
        "\n",
        "class Guitar(Instrument):\n",
        "    def play(self):\n",
        "        return \"Guitar strums with a melodic chord progression.\"\n",
        "\n",
        "class Piano(Instrument):\n",
        "    def play(self):\n",
        "        return \"Piano plays a harmonious melody with flowing arpeggios.\"\n",
        "\n",
        "# Example usage to demonstrate runtime polymorphism\n",
        "if __name__ == \"__main__\":\n",
        "    # Create a list of different instrument objects\n",
        "    instruments = [Guitar(), Piano()]\n",
        "\n",
        "    # Call play() method on each instrument\n",
        "    for instrument in instruments:\n",
        "        print(instrument.play())"
      ],
      "metadata": {
        "id": "gSz5NG0qDDXX"
      },
      "execution_count": null,
      "outputs": []
    },
    {
      "cell_type": "markdown",
      "source": [
        "7. Create a class MathOperations with a class method add_numbers() to add two numbers and a static\n",
        "method subtract_numbers() to subtract two numbers.\n",
        " - I'll create a Python program with a MathOperations class that includes a class method add_numbers() for adding two numbers and a static method subtract_numbers() for subtracting two numbers. Class methods work with the class itself, while static methods are utility functions that don't depend on class or instance state.\n",
        " This program:\n",
        "\n",
        "Defines a MathOperations class.\n",
        "Implements add_numbers() as a class method using the @classmethod decorator, which takes two numbers and returns their sum. It receives the class (cls) as its first parameter, though not used here.\n",
        "Implements subtract_numbers() as a static method using the @staticmethod decorator, which takes two numbers and returns their difference. It doesn't receive class or instance parameters.\n",
        "Includes example usage showing both methods called via the class directly and via an instance, demonstrating their accessibility.\n",
        "When you run this program, it will output:"
      ],
      "metadata": {
        "id": "2ryaCCtSDGDA"
      }
    },
    {
      "cell_type": "code",
      "source": [
        "Sum: 15\n",
        "Difference: 5\n",
        "Sum (via instance): 11\n",
        "Difference (via instance): 5"
      ],
      "metadata": {
        "id": "YfLorWyHDYFW"
      },
      "execution_count": null,
      "outputs": []
    },
    {
      "cell_type": "markdown",
      "source": [
        "This demonstrates:\n",
        "\n",
        "The class method add_numbers() can be called on the class or an instance and performs addition.\n",
        "The static method subtract_numbers() can also be called on the class or an instance and performs subtraction.\n",
        "Both methods are independent of instance state, but the class method could access class-level data if needed, while the static method is a standalone utility function."
      ],
      "metadata": {
        "id": "ytKrughGDcrd"
      }
    },
    {
      "cell_type": "code",
      "source": [
        "class MathOperations:\n",
        "    @classmethod\n",
        "    def add_numbers(cls, a, b):\n",
        "        return a + b\n",
        "\n",
        "    @staticmethod\n",
        "    def subtract_numbers(a, b):\n",
        "        return a - b\n",
        "\n",
        "# Example usage\n",
        "if __name__ == \"__main__\":\n",
        "    # Call class method using class name\n",
        "    sum_result = MathOperations.add_numbers(10, 5)\n",
        "    print(f\"Sum: {sum_result}\")\n",
        "\n",
        "    # Call static method using class name\n",
        "    diff_result = MathOperations.subtract_numbers(10, 5)\n",
        "    print(f\"Difference: {diff_result}\")\n",
        "\n",
        "    # Create an instance and call methods\n",
        "    math_op = MathOperations()\n",
        "    print(f\"Sum (via instance): {math_op.add_numbers(8, 3)}\")\n",
        "    print(f\"Difference (via instance): {math_op.subtract_numbers(8, 3)}\")"
      ],
      "metadata": {
        "id": "QRoZI5iKDe2K"
      },
      "execution_count": null,
      "outputs": []
    },
    {
      "cell_type": "markdown",
      "source": [
        "8.  Implement a class Person with a class method to count the total number of persons created.\n",
        " - I'll create a Python program with a Person class that uses a class method to track and count the total number of Person instances created. This will demonstrate the use of a class-level variable and a class method to manage shared state across all instances.\n",
        " This program:\n",
        "\n",
        "Defines a Person class with a class variable _total_persons initialized to 0 to track the number of instances.\n",
        "Implements an __init__ method that takes a name parameter and increments _total_persons each time a new Person instance is created.\n",
        "Provides a class method get_total_persons() using the @classmethod decorator, which returns a string indicating the total number of Person instances created.\n",
        "Includes example usage that creates multiple Person instances and calls get_total_persons() both via the class and an instance to show the count.\n",
        "When you run this program, it will output:"
      ],
      "metadata": {
        "id": "C9kuH_Y3Dg2p"
      }
    },
    {
      "cell_type": "code",
      "source": [
        "Total persons created: 3\n",
        "Total persons created: 4\n",
        "Total persons created: 4"
      ],
      "metadata": {
        "id": "migP_TCgD3i7"
      },
      "execution_count": null,
      "outputs": []
    },
    {
      "cell_type": "markdown",
      "source": [
        "This demonstrates:\n",
        "\n",
        "The class method get_total_persons() accesses the class-level variable _total_persons to report the total number of instances.\n",
        "The count is updated automatically when new Person instances are created.\n",
        "The class method can be called either on the class (Person.get_total_persons()) or on an instance (person1.get_total_persons()), showing its accessibility."
      ],
      "metadata": {
        "id": "7QpGpM4JD5iV"
      }
    },
    {
      "cell_type": "code",
      "source": [
        "class Person:\n",
        "    # Class variable to track the number of Person instances\n",
        "    _total_persons = 0\n",
        "\n",
        "    def __init__(self, name):\n",
        "        self.name = name\n",
        "        Person._total_persons += 1  # Increment count when a new instance is created\n",
        "\n",
        "    @classmethod\n",
        "    def get_total_persons(cls):\n",
        "        return f\"Total persons created: {cls._total_persons}\"\n",
        "\n",
        "# Example usage\n",
        "if __name__ == \"__main__\":\n",
        "    # Create some Person instances\n",
        "    person1 = Person(\"Alice\")\n",
        "    person2 = Person(\"Bob\")\n",
        "    person3 = Person(\"Charlie\")\n",
        "\n",
        "    # Call class method to get total count\n",
        "    print(Person.get_total_persons())\n",
        "\n",
        "    # Create another instance\n",
        "    person4 = Person(\"David\")\n",
        "\n",
        "    # Check count again\n",
        "    print(Person.get_total_persons())\n",
        "\n",
        "    # Call via instance\n",
        "    print(person1.get_total_persons())"
      ],
      "metadata": {
        "id": "obUJYd__D9FV"
      },
      "execution_count": null,
      "outputs": []
    },
    {
      "cell_type": "markdown",
      "source": [
        "9. Write a class Fraction with attributes numerator and denominator. Override the str method to display the\n",
        "fraction as \"numerator/denominator\".\n",
        " - I'll create a Python program with a Fraction class that has numerator and denominator attributes and overrides the __str__ method to display the fraction in the format \"numerator/denominator\". I'll also include basic validation to ensure the denominator is not zero.\n",
        " This program:\n",
        "\n",
        "Defines a Fraction class with numerator and denominator attributes.\n",
        "Includes an __init__ method that initializes the attributes and checks that the denominator is not zero, raising a ValueError if it is.\n",
        "Overrides the __str__ method to return the fraction as a string in the format \"numerator/denominator\".\n",
        "Provides example usage that creates two Fraction instances and prints them, both implicitly (via print(frac)) and explicitly (via str(frac)).\n",
        "When you run this program, it will output"
      ],
      "metadata": {
        "id": "nO-AwaexD_LT"
      }
    },
    {
      "cell_type": "code",
      "source": [
        "3/4\n",
        "-5/2\n",
        "3/4\n",
        "-5/2"
      ],
      "metadata": {
        "id": "WvLmmUNqEP_R"
      },
      "execution_count": null,
      "outputs": []
    },
    {
      "cell_type": "markdown",
      "source": [
        "This demonstrates:\n",
        "\n",
        "The __str__ method provides a human-readable string representation of the Fraction object.\n",
        "The format \"numerator/denominator\" is consistently used when the object is printed.\n",
        "The class handles both positive and negative numerators correctly, and prevents invalid fractions with a zero denominator."
      ],
      "metadata": {
        "id": "eOGurgMyER8t"
      }
    },
    {
      "cell_type": "code",
      "source": [
        "class Fraction:\n",
        "    def __init__(self, numerator, denominator):\n",
        "        if denominator == 0:\n",
        "            raise ValueError(\"Denominator cannot be zero.\")\n",
        "        self.numerator = numerator\n",
        "        self.denominator = denominator\n",
        "\n",
        "    def __str__(self):\n",
        "        return f\"{self.numerator}/{self.denominator}\"\n",
        "\n",
        "# Example usage\n",
        "if __name__ == \"__main__\":\n",
        "    # Create some Fraction instances\n",
        "    frac1 = Fraction(3, 4)\n",
        "    frac2 = Fraction(-5, 2)\n",
        "\n",
        "    # Display fractions\n",
        "    print(frac1)  # Implicitly calls __str__\n",
        "    print(frac2)\n",
        "\n",
        "    # Explicitly call __str__\n",
        "    print(str(frac1))\n",
        "    print(str(frac2))"
      ],
      "metadata": {
        "id": "_w9gZ0oLEXss"
      },
      "execution_count": null,
      "outputs": []
    },
    {
      "cell_type": "markdown",
      "source": [
        "10. Demonstrate operator overloading by creating a class Vector and overriding the add method to add two\n",
        "vectors.\n",
        " - I'll create a Python program with a Vector class that demonstrates operator overloading by overriding the __add__ method to add two vectors. The vectors will represent 2D coordinates (x, y), and the addition will compute the sum of corresponding components. I'll also override the __str__ method for a readable representation of the vector.\n",
        " This program:\n",
        "\n",
        "Defines a Vector class with x and y attributes representing coordinates in 2D space.\n",
        "Overrides the __add__ method to enable vector addition using the + operator. It checks if the operand is a Vector instance and returns a new Vector with the sum of corresponding components (x + other.x, y + other.y).\n",
        "Overrides the __str__ method to provide a readable string representation of the vector in the format Vector(x, y).\n",
        "Includes example usage that creates two vectors, adds them, and prints the original vectors and their sum.\n",
        "When you run this program, it will output:"
      ],
      "metadata": {
        "id": "h_y-BwBxEa1u"
      }
    },
    {
      "cell_type": "code",
      "source": [
        "Vector 1: Vector(2, 3)\n",
        "Vector 2: Vector(5, -1)\n",
        "Sum: Vector(7, 2)"
      ],
      "metadata": {
        "id": "cWzrRwl4E0wG"
      },
      "execution_count": null,
      "outputs": []
    },
    {
      "cell_type": "markdown",
      "source": [
        "This demonstrates operator overloading:\n",
        "\n",
        "The + operator is overloaded via __add__ to perform vector addition, adding corresponding components.\n",
        "The operation is intuitive, allowing v1 + v2 to create a new Vector instance.\n",
        "Type checking ensures the operation only works with Vector objects, preventing invalid additions.\n",
        "The __str__ method makes the output clear and user-friendly."
      ],
      "metadata": {
        "id": "MZONS2mRFCFY"
      }
    },
    {
      "cell_type": "code",
      "source": [
        "class Vector:\n",
        "    def __init__(self, x, y):\n",
        "        self.x = x\n",
        "        self.y = y\n",
        "\n",
        "    def __add__(self, other):\n",
        "        if not isinstance(other, Vector):\n",
        "            raise TypeError(\"Can only add two Vector objects.\")\n",
        "        return Vector(self.x + other.x, self.y + other.y)\n",
        "\n",
        "    def __str__(self):\n",
        "        return f\"Vector({self.x}, {self.y})\"\n",
        "\n",
        "# Example usage\n",
        "if __name__ == \"__main__\":\n",
        "    # Create two Vector instances\n",
        "    v1 = Vector(2, 3)\n",
        "    v2 = Vector(5, -1)\n",
        "\n",
        "    # Add vectors using +\n",
        "    v3 = v1 + v2\n",
        "\n",
        "    # Display vectors\n",
        "    print(f\"Vector 1: {v1}\")\n",
        "    print(f\"Vector 2: {v2}\")\n",
        "    print(f\"Sum: {v3}\")"
      ],
      "metadata": {
        "id": "c0e02en8FHXn"
      },
      "execution_count": null,
      "outputs": []
    },
    {
      "cell_type": "markdown",
      "source": [
        "11.  Create a class Person with attributes name and age. Add a method greet() that prints \"Hello, my name is\n",
        "{name} and I am {age} years old.\"\n",
        " - I'll create a Python program with a Person class that has name and age attributes and a greet() method to print a greeting message in the specified format.\n",
        " This program:\n",
        "\n",
        "Defines a Person class with name and age attributes, initialized through the __init__ method.\n",
        "Implements a greet() method that prints a formatted string using the name and age attributes in the format \"Hello, my name is {name} and I am {age} years old.\"\n",
        "Includes example usage that creates two Person instances and calls their greet() method to demonstrate the output.\n",
        "When you run this program, it will output:"
      ],
      "metadata": {
        "id": "lJE1MpOQFJei"
      }
    },
    {
      "cell_type": "code",
      "source": [
        "Hello, my name is Alice and I am 25 years old.\n",
        "Hello, my name is Bob and I am 30 years old."
      ],
      "metadata": {
        "id": "337SSD26HolG"
      },
      "execution_count": null,
      "outputs": []
    },
    {
      "cell_type": "markdown",
      "source": [
        "This demonstrates:\n",
        "\n",
        "The Person class properly stores name and age attributes.\n",
        "The greet() method uses string formatting to produce the required message.\n",
        "The method is instance-specific, correctly reflecting each object's attributes when called."
      ],
      "metadata": {
        "id": "rdlVJ7poHqva"
      }
    },
    {
      "cell_type": "code",
      "source": [
        "class Person:\n",
        "    def __init__(self, name, age):\n",
        "        self.name = name\n",
        "        self.age = age\n",
        "\n",
        "    def greet(self):\n",
        "        print(f\"Hello, my name is {self.name} and I am {self.age} years old.\")\n",
        "\n",
        "# Example usage\n",
        "if __name__ == \"__main__\":\n",
        "    # Create Person instances\n",
        "    person1 = Person(\"Alice\", 25)\n",
        "    person2 = Person(\"Bob\", 30)\n",
        "\n",
        "    # Call greet method\n",
        "    person1.greet()\n",
        "    person2.greet()"
      ],
      "metadata": {
        "id": "SjW7VwcRHti1"
      },
      "execution_count": null,
      "outputs": []
    },
    {
      "cell_type": "markdown",
      "source": [
        "12.  Implement a class Student with attributes name and grades. Create a method average_grade() to compute\n",
        "the average of the grades.\n",
        " - I'll create a Python program with a Student class that has name and grades attributes and a method average_grade() to compute the average of the grades. I'll include validation to handle cases where the grades list might be empty.\n",
        " This program:\n",
        "\n",
        "Defines a Student class with name (string) and grades (list of numbers) attributes, initialized via __init__.\n",
        "Implements an average_grade() method that calculates the average of the grades by summing the grades list and dividing by its length. If the grades list is empty, it returns 0.0 to avoid division by zero.\n",
        "Includes example usage with three Student instances: two with grades and one with an empty grades list, demonstrating the method's behavior.\n",
        "When you run this program, it will output:"
      ],
      "metadata": {
        "id": "E7wCKGC5H1KL"
      }
    },
    {
      "cell_type": "code",
      "source": [
        "Alice's average grade: 89.00\n",
        "Bob's average grade: 80.00\n",
        "Charlie's average grade: 0.00"
      ],
      "metadata": {
        "id": "FPQz-we3IKWr"
      },
      "execution_count": null,
      "outputs": []
    },
    {
      "cell_type": "markdown",
      "source": [
        "This demonstrates:\n",
        "\n",
        "The Student class correctly stores name and grades.\n",
        "The average_grade() method computes the average of the grades accurately, handling the edge case of an empty grades list.\n",
        "The output is formatted to two decimal places for clarity."
      ],
      "metadata": {
        "id": "TY6v1vfiIOJL"
      }
    },
    {
      "cell_type": "code",
      "source": [
        "class Student:\n",
        "    def __init__(self, name, grades):\n",
        "        self.name = name\n",
        "        self.grades = grades  # List of grades\n",
        "\n",
        "    def average_grade(self):\n",
        "        if not self.grades:  # Check if grades list is empty\n",
        "            return 0.0\n",
        "        return sum(self.grades) / len(self.grades)\n",
        "\n",
        "# Example usage\n",
        "if __name__ == \"__main__\":\n",
        "    # Create Student instances\n",
        "    student1 = Student(\"Alice\", [85, 90, 92])\n",
        "    student2 = Student(\"Bob\", [78, 82, 80])\n",
        "    student3 = Student(\"Charlie\", [])\n",
        "\n",
        "    # Calculate and print average grades\n",
        "    print(f\"{student1.name}'s average grade: {student1.average_grade():.2f}\")\n",
        "    print(f\"{student2.name}'s average grade: {student2.average_grade():.2f}\")\n",
        "    print(f\"{student3.name}'s average grade: {student3.average_grade():.2f}\")"
      ],
      "metadata": {
        "id": "ilCZy3N3ITSx"
      },
      "execution_count": null,
      "outputs": []
    },
    {
      "cell_type": "markdown",
      "source": [
        "13.  Create a class Rectangle with methods set_dimensions() to set the dimensions and area() to calculate the\n",
        "area.\n",
        " - I'll create a Python program with a Rectangle class that includes methods set_dimensions() to set the width and height, and area() to calculate the area. I'll include validation to ensure dimensions are positive.\n",
        " This program:\n",
        "\n",
        "Defines a Rectangle class with width and height attributes, initialized to 0 by default in __init__.\n",
        "Implements set_dimensions(width, height) to update the dimensions, with validation to ensure both width and height are positive, raising a ValueError otherwise.\n",
        "Implements area() to calculate and return the area as width × height.\n",
        "Includes example usage that creates a Rectangle, sets different dimensions, and prints the area each time.\n",
        "When you run this program, it will output:"
      ],
      "metadata": {
        "id": "T6760EmiIVXi"
      }
    },
    {
      "cell_type": "code",
      "source": [
        "Rectangle area: 15\n",
        "Rectangle area: 24"
      ],
      "metadata": {
        "id": "YuySgHQNIn7I"
      },
      "execution_count": null,
      "outputs": []
    },
    {
      "cell_type": "markdown",
      "source": [
        "This demonstrates:\n",
        "\n",
        "The set_dimensions() method safely updates width and height with validation.\n",
        "The area() method correctly calculates the area based on the current dimensions.\n",
        "The class supports flexible dimension changes while maintaining data integrity."
      ],
      "metadata": {
        "id": "ZPPBQE7DIptm"
      }
    },
    {
      "cell_type": "code",
      "source": [
        "class Rectangle:\n",
        "    def __init__(self, width=0, height=0):\n",
        "        self.width = width\n",
        "        self.height = height\n",
        "\n",
        "    def set_dimensions(self, width, height):\n",
        "        if width <= 0 or height <= 0:\n",
        "            raise ValueError(\"Width and height must be positive values.\")\n",
        "        self.width = width\n",
        "        self.height = height\n",
        "\n",
        "    def area(self):\n",
        "        return self.width * self.height\n",
        "\n",
        "# Example usage\n",
        "if __name__ == \"__main__\":\n",
        "    # Create a Rectangle instance\n",
        "    rect = Rectangle()\n",
        "\n",
        "    # Set dimensions and calculate area\n",
        "    rect.set_dimensions(5, 3)\n",
        "    print(f\"Rectangle area: {rect.area()}\")\n",
        "\n",
        "    # Change dimensions and calculate area again\n",
        "    rect.set_dimensions(4, 6)\n",
        "    print(f\"Rectangle area: {rect.area()}\")"
      ],
      "metadata": {
        "id": "oXsGTMP_ItRg"
      },
      "execution_count": null,
      "outputs": []
    },
    {
      "cell_type": "markdown",
      "source": [
        "14. Create a class Employee with a method calculate_salary() that computes the salary based on hours worked\n",
        "and hourly rate. Create a derived class Manager that adds a bonus to the salary.\n",
        " - I'll create a Python program with an Employee base class that has a calculate_salary() method to compute salary based on hours worked and hourly rate, and a derived Manager class that overrides calculate_salary() to include a bonus.\n",
        " This program:\n",
        "\n",
        "Defines an Employee class with name, hours_worked, and hourly_rate attributes, and a calculate_salary() method that computes salary as hours worked × hourly rate, with validation for non-negative inputs.\n",
        "Derives a Manager class from Employee, adding a bonus attribute and overriding calculate_salary() to include the bonus after calling the base class method using super(). It also validates that the bonus is non-negative.\n",
        "Includes example usage with an Employee and a Manager, calculating and printing their salaries.\n",
        "When you run this program, it will output:"
      ],
      "metadata": {
        "id": "ORxP65LQIvpt"
      }
    },
    {
      "cell_type": "code",
      "source": [
        "Alice's salary: $1000.00\n",
        "Bob's salary: $1700.00"
      ],
      "metadata": {
        "id": "5Q38WXjjJUc2"
      },
      "execution_count": null,
      "outputs": []
    },
    {
      "cell_type": "markdown",
      "source": [
        "This demonstrates:\n",
        "\n",
        "The Person class properly stores name and age attributes.\n",
        "The greet() method uses string formatting to produce the required message.\n",
        "The method is instance-specific, correctly reflecting each object's attributes when called."
      ],
      "metadata": {
        "id": "MQc3ckZ1JWRA"
      }
    },
    {
      "cell_type": "code",
      "source": [
        "class Employee:\n",
        "    def __init__(self, name, hours_worked, hourly_rate):\n",
        "        self.name = name\n",
        "        self.hours_worked = hours_worked\n",
        "        self.hourly_rate = hourly_rate\n",
        "\n",
        "    def calculate_salary(self):\n",
        "        if self.hours_worked < 0 or self.hourly_rate < 0:\n",
        "            raise ValueError(\"Hours worked and hourly rate must be non-negative.\")\n",
        "        return self.hours_worked * self.hourly_rate\n",
        "\n",
        "class Manager(Employee):\n",
        "    def __init__(self, name, hours_worked, hourly_rate, bonus):\n",
        "        super().__init__(name, hours_worked, hourly_rate)\n",
        "        self.bonus = bonus\n",
        "\n",
        "    def calculate_salary(self):\n",
        "        base_salary = super().calculate_salary()\n",
        "        if self.bonus < 0:\n",
        "            raise ValueError(\"Bonus must be non-negative.\")\n",
        "        return base_salary + self.bonus\n",
        "\n",
        "# Example usage\n",
        "if __name__ == \"__main__\":\n",
        "    # Create an Employee instance\n",
        "    employee = Employee(\"Alice\", 40, 25)\n",
        "    # Create a Manager instance\n",
        "    manager = Manager(\"Bob\", 40, 30, 500)\n",
        "\n",
        "    # Calculate and print salaries\n",
        "    print(f\"{employee.name}'s salary: ${employee.calculate_salary():.2f}\")\n",
        "    print(f\"{manager.name}'s salary: ${manager.calculate_salary():.2f}\")"
      ],
      "metadata": {
        "id": "oZiBDocwJhUW"
      },
      "execution_count": null,
      "outputs": []
    },
    {
      "cell_type": "markdown",
      "source": [
        "15.  Create a class Product with attributes name, price, and quantity. Implement a method total_price() that\n",
        "calculates the total price of the product.\n",
        " - Here's a Python implementation of the Product class with the requested attributes and method:"
      ],
      "metadata": {
        "id": "m6fO58bTJk4z"
      }
    },
    {
      "cell_type": "code",
      "source": [
        "class Product:\n",
        "    def __init__(self, name, price, quantity):\n",
        "        self.name = name\n",
        "        self.price = price\n",
        "        self.quantity = quantity\n",
        "\n",
        "    def total_price(self):\n",
        "        return self.price * self.quantity"
      ],
      "metadata": {
        "id": "1Pek9BaLJ1eo"
      },
      "execution_count": null,
      "outputs": []
    },
    {
      "cell_type": "markdown",
      "source": [
        "This class:\n",
        "\n",
        "Has attributes: name (string), price (float/int), and quantity (int)\n",
        "Includes a constructor (__init__) to initialize the attributes\n",
        "Implements total_price() method that returns the product of price and quantity\n",
        "Example usage:"
      ],
      "metadata": {
        "id": "3W3DNlH8J3ax"
      }
    },
    {
      "cell_type": "code",
      "source": [
        "product = Product(\"Apple\", 0.5, 10)\n",
        "print(product.total_price())  # Output: 5.0"
      ],
      "metadata": {
        "id": "zEH_KQBEJ6x1"
      },
      "execution_count": null,
      "outputs": []
    },
    {
      "cell_type": "markdown",
      "source": [
        "16.  Create a class Animal with an abstract method sound(). Create two derived classes Cow and Sheep that\n",
        "implement the sound() method.\n",
        " - Here's a Python implementation of the Animal class with an abstract method sound(), and two derived classes Cow and Sheep that implement the sound() method:\n",
        " This implementation:\n",
        "\n",
        "Uses the ABC (Abstract Base Class) module to create an abstract class\n",
        "Defines Animal as an abstract base class with an abstract sound() method\n",
        "Creates Cow and Sheep classes that inherit from Animal and implement the sound() method\n",
        "Cow.sound() returns \"Moo\"\n",
        "Sheep.sound() returns \"Baa\"\n",
        "Example usage:"
      ],
      "metadata": {
        "id": "8V5eQi-lJ9Of"
      }
    },
    {
      "cell_type": "code",
      "source": [
        "cow = Cow()\n",
        "sheep = Sheep()\n",
        "print(cow.sound())    # Output: Moo\n",
        "print(sheep.sound())  # Output: Baa"
      ],
      "metadata": {
        "id": "UNCQoDQ8KPqa"
      },
      "execution_count": null,
      "outputs": []
    },
    {
      "cell_type": "code",
      "source": [
        "from abc import ABC, abstractmethod\n",
        "\n",
        "class Animal(ABC):\n",
        "    @abstractmethod\n",
        "    def sound(self):\n",
        "        pass\n",
        "\n",
        "class Cow(Animal):\n",
        "    def sound(self):\n",
        "        return \"Moo\"\n",
        "\n",
        "class Sheep(Animal):\n",
        "    def sound(self):\n",
        "        return \"Baa\""
      ],
      "metadata": {
        "id": "G2ITKOo5Kc-V"
      },
      "execution_count": null,
      "outputs": []
    },
    {
      "cell_type": "markdown",
      "source": [
        "17. Create a class Book with attributes title, author, and year_published. Add a method get_book_info() that\n",
        "returns a formatted string with the book's details.\n",
        " - Here's a Python implementation of the Book class with the requested attributes and method:\n",
        " This class:\n",
        "\n",
        "Has attributes: title (string), author (string), and year_published (int)\n",
        "Includes a constructor (__init__) to initialize the attributes\n",
        "Implements get_book_info() method that returns a formatted string with the book's details\n",
        "Example usage:"
      ],
      "metadata": {
        "id": "zIopi4GKKeLE"
      }
    },
    {
      "cell_type": "code",
      "source": [
        "book = Book(\"1984\", \"George Orwell\", 1949)\n",
        "print(book.get_book_info())  # Output: '1984' by George Orwell, published in 1949"
      ],
      "metadata": {
        "id": "WelVnzeCKvni"
      },
      "execution_count": null,
      "outputs": []
    },
    {
      "cell_type": "code",
      "source": [
        "class Book:\n",
        "    def __init__(self, title, author, year_published):\n",
        "        self.title = title\n",
        "        self.author = author\n",
        "        self.year_published = year_published\n",
        "\n",
        "    def get_book_info(self):\n",
        "        return f\"'{self.title}' by {self.author}, published in {self.year_published}\""
      ],
      "metadata": {
        "id": "7FCWZ5lCKyB-"
      },
      "execution_count": null,
      "outputs": []
    },
    {
      "cell_type": "markdown",
      "source": [
        "18. Create a class House with attributes address and price. Create a derived class Mansion that adds an\n",
        "attribute number_of_rooms.\n",
        " - Here's a Python implementation of the House class and its derived Mansion class with the requested attributes:\n",
        " This implementation:\n",
        "\n",
        "Defines the House base class with attributes:\n",
        "address (string)\n",
        "price (float/int)\n",
        "Creates the Mansion derived class that inherits from House and adds:\n",
        "number_of_rooms (int)\n",
        "Uses super().__init__() to call the parent class constructor for initializing address and price\n",
        "Example usage:"
      ],
      "metadata": {
        "id": "0KFP13oVK0RR"
      }
    },
    {
      "cell_type": "code",
      "source": [
        "house = House(\"123 Main St\", 250000)\n",
        "mansion = Mansion(\"456 Elm St\", 1000000, 8)\n",
        "print(house.address, house.price)          # Output: 123 Main St 250000\n",
        "print(mansion.address, mansion.price, mansion.number_of_rooms)  # Output: 456 Elm St 1000000 8"
      ],
      "metadata": {
        "id": "jVXfDlRhLMAo"
      },
      "execution_count": null,
      "outputs": []
    },
    {
      "cell_type": "code",
      "source": [
        "class House:\n",
        "    def __init__(self, address, price):\n",
        "        self.address = address\n",
        "        self.price = price\n",
        "\n",
        "class Mansion(House):\n",
        "    def __init__(self, address, price, number_of_rooms):\n",
        "        super().__init__(address, price)\n",
        "        self.number_of_rooms = number_of_rooms"
      ],
      "metadata": {
        "id": "-yjFVwaZLQsu"
      },
      "execution_count": null,
      "outputs": []
    }
  ]
}